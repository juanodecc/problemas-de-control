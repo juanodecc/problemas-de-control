{
 "cells": [
  {
   "cell_type": "markdown",
   "metadata": {},
   "source": [
    "## problema 18\n"
   ]
  },
  {
   "cell_type": "code",
   "execution_count": 1,
   "metadata": {},
   "outputs": [],
   "source": [
    "import control as ctrl\n",
    "import numpy as np"
   ]
  },
  {
   "cell_type": "code",
   "execution_count": 2,
   "metadata": {},
   "outputs": [],
   "source": [
    "A=np.matrix([[-25,0,-.5],[0,0,1],[46.296,0,0]])\n",
    "B=np.matrix([[5],[0],[0]])\n",
    "C=np.matrix([0,.02,0])\n",
    "D=np.matrix(0)"
   ]
  },
  {
   "cell_type": "code",
   "execution_count": 3,
   "metadata": {},
   "outputs": [
    {
     "data": {
      "text/plain": [
       "A = [[-25.      0.     -0.5  ]\n",
       " [  0.      0.      1.   ]\n",
       " [ 46.296   0.      0.   ]]\n",
       "\n",
       "B = [[5.]\n",
       " [0.]\n",
       " [0.]]\n",
       "\n",
       "C = [[0.   0.02 0.  ]]\n",
       "\n",
       "D = [[0.]]"
      ]
     },
     "execution_count": 3,
     "metadata": {},
     "output_type": "execute_result"
    }
   ],
   "source": [
    "dc_motor= ctrl.ss(A,B,C,D)\n",
    "dc_motor"
   ]
  },
  {
   "cell_type": "code",
   "execution_count": 5,
   "metadata": {},
   "outputs": [
    {
     "name": "stdout",
     "output_type": "stream",
     "text": [
      "[  0.         -24.03698401  -0.96301599]\n"
     ]
    },
    {
     "data": {
      "text/plain": [
       "array([], dtype=float64)"
      ]
     },
     "execution_count": 5,
     "metadata": {},
     "output_type": "execute_result"
    }
   ],
   "source": [
    "plc1 = [-1-1j,-1+1j,-10]\n",
    "print(np.linalg.eigvals(A))\n",
    "dc_motor.zero()"
   ]
  },
  {
   "cell_type": "code",
   "execution_count": 28,
   "metadata": {},
   "outputs": [
    {
     "name": "stdout",
     "output_type": "stream",
     "text": [
      "rango:  3 determinante:  -267914.9519999998\n"
     ]
    }
   ],
   "source": [
    "Co=ctrl.ctrb(A,B)\n",
    "print('rango: ',np.linalg.matrix_rank(Co),'determinante: ',np.linalg.det(Co))"
   ]
  },
  {
   "cell_type": "code",
   "execution_count": 32,
   "metadata": {},
   "outputs": [
    {
     "data": {
      "text/plain": [
       "matrix([[-2.6       ,  0.08640055, -0.00495939]])"
      ]
     },
     "execution_count": 32,
     "metadata": {},
     "output_type": "execute_result"
    }
   ],
   "source": [
    "K=ctrl.acker(A,B,plc1)\n",
    "K"
   ]
  },
  {
   "cell_type": "code",
   "execution_count": 33,
   "metadata": {},
   "outputs": [
    {
     "data": {
      "text/plain": [
       "array([-10.+0.j,  -1.+1.j,  -1.-1.j])"
      ]
     },
     "execution_count": 33,
     "metadata": {},
     "output_type": "execute_result"
    }
   ],
   "source": [
    "np.linalg.eigvals(A-B@K)"
   ]
  },
  {
   "cell_type": "code",
   "execution_count": 35,
   "metadata": {},
   "outputs": [
    {
     "data": {
      "text/plain": [
       "[-4, (-5+2j), (-5-2j)]"
      ]
     },
     "execution_count": 35,
     "metadata": {},
     "output_type": "execute_result"
    }
   ],
   "source": [
    "pe=[-4,-5+2j,-5-2j]\n",
    "pe"
   ]
  },
  {
   "cell_type": "code",
   "execution_count": 37,
   "metadata": {},
   "outputs": [
    {
     "name": "stdout",
     "output_type": "stream",
     "text": [
      "rango:  3 determinante:  0.00037036799999999993\n"
     ]
    }
   ],
   "source": [
    "Ob=ctrl.obsv(A,C)\n",
    "print('rango: ',np.linalg.matrix_rank(Ob),'determinante: ',np.linalg.det(Ob))"
   ]
  },
  {
   "cell_type": "code",
   "execution_count": 39,
   "metadata": {},
   "outputs": [
    {
     "data": {
      "text/plain": [
       "matrix([[-8262.77864178],\n",
       "        [ -550.        ],\n",
       "        [16042.6       ]])"
      ]
     },
     "execution_count": 39,
     "metadata": {},
     "output_type": "execute_result"
    }
   ],
   "source": [
    "L=ctrl.acker(A.T,C.T,pe).T\n",
    "L"
   ]
  },
  {
   "cell_type": "code",
   "execution_count": 40,
   "metadata": {},
   "outputs": [
    {
     "data": {
      "text/plain": [
       "array([-5.+2.j, -5.-2.j, -4.+0.j])"
      ]
     },
     "execution_count": 40,
     "metadata": {},
     "output_type": "execute_result"
    }
   ],
   "source": [
    "np.linalg.eigvals(A-L@C)"
   ]
  },
  {
   "cell_type": "markdown",
   "metadata": {},
   "source": [
    "### Punto c)"
   ]
  },
  {
   "cell_type": "code",
   "execution_count": 41,
   "metadata": {},
   "outputs": [
    {
     "data": {
      "text/plain": [
       "[(-5+2j), (-5-2j)]"
      ]
     },
     "execution_count": 41,
     "metadata": {},
     "output_type": "execute_result"
    }
   ],
   "source": [
    "pe_r=[-5+2j,-5-2j]\n",
    "pe_r"
   ]
  },
  {
   "cell_type": "code",
   "execution_count": 46,
   "metadata": {},
   "outputs": [],
   "source": [
    "T=np.matrix([[0,1,0],[50,0,0],[0,0,1]])"
   ]
  },
  {
   "cell_type": "code",
   "execution_count": 50,
   "metadata": {},
   "outputs": [],
   "source": [
    "At=np.linalg.inv(T)@A@T\n",
    "Bt=np.linalg.inv(T)@B\n",
    "Ct= C@T\n",
    "Dt=D\n",
    "dc_motor_2=ctrl.ss(At,Bt,Ct,Dt)\n"
   ]
  },
  {
   "cell_type": "code",
   "execution_count": 53,
   "metadata": {},
   "outputs": [],
   "source": [
    "n=At.shape[0]\n",
    "Aaa=At[0,0]\n",
    "Aab=At[0,1:n]\n",
    "Aba=At[1:n,0]\n",
    "Abb=At[1:n,1:n]\n",
    "\n",
    "Ba=Bt[0,0]\n",
    "Bb=Bt[1:n,0]\n",
    "\n",
    "Ka=K[0,0]\n",
    "Kb=K[0,1:n]\n",
    "\n",
    "Lr=ctrl.acker(Abb.T,Aab.T,pe_r).T\n",
    "\n",
    "Ar=Abb-Lr*Aab-(Bb-Lr*Ba)*Kb\n",
    "Br=Ar*Lr+Aba-Lr*Aaa-(Bb-Lr*Ba)*Ka\n",
    "Cr=-Kb\n",
    "Dr=-Ka-Kb*Lr\n"
   ]
  },
  {
   "cell_type": "code",
   "execution_count": 54,
   "metadata": {},
   "outputs": [
    {
     "data": {
      "text/plain": [
       "matrix([[ 411.32279247],\n",
       "        [-750.        ]])"
      ]
     },
     "execution_count": 54,
     "metadata": {},
     "output_type": "execute_result"
    }
   ],
   "source": [
    "Lr\n"
   ]
  }
 ],
 "metadata": {
  "kernelspec": {
   "display_name": "Python 3",
   "language": "python",
   "name": "python3"
  },
  "language_info": {
   "codemirror_mode": {
    "name": "ipython",
    "version": 3
   },
   "file_extension": ".py",
   "mimetype": "text/x-python",
   "name": "python",
   "nbconvert_exporter": "python",
   "pygments_lexer": "ipython3",
   "version": "3.6.8"
  }
 },
 "nbformat": 4,
 "nbformat_minor": 4
}
