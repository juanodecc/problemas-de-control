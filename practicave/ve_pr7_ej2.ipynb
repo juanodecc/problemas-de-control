{
 "cells": [
  {
   "cell_type": "code",
   "execution_count": 1,
   "metadata": {},
   "outputs": [],
   "source": [
    "## problema 2"
   ]
  },
  {
   "cell_type": "code",
   "execution_count": 2,
   "metadata": {},
   "outputs": [],
   "source": [
    "import control as ctrl\n",
    "import numpy as np\n"
   ]
  },
  {
   "cell_type": "code",
   "execution_count": 6,
   "metadata": {},
   "outputs": [],
   "source": [
    "G1=ctrl.tf(1,[1,4])\n",
    "G2=ctrl.tf(1,[2,0])\n",
    "H1=ctrl.tf(1,[1,0])\n",
    "H2=H1"
   ]
  },
  {
   "cell_type": "code",
   "execution_count": 12,
   "metadata": {},
   "outputs": [],
   "source": [
    " G=(((G2+H1*G2+1)*G1)/(1+G1*H2+G1*H1*H2*G2)).minreal()"
   ]
  },
  {
   "cell_type": "code",
   "execution_count": 13,
   "metadata": {},
   "outputs": [
    {
     "data": {
      "text/latex": [
       "$$\\frac{s^3 + 0.5 s^2 + 0.5 s}{s^4 + 4 s^3 + s^2 + 3.83e-14 s + 0.5}$$"
      ],
      "text/plain": [
       "\n",
       "        s^3 + 0.5 s^2 + 0.5 s\n",
       "------------------------------------\n",
       "s^4 + 4 s^3 + s^2 + 3.83e-14 s + 0.5"
      ]
     },
     "execution_count": 13,
     "metadata": {},
     "output_type": "execute_result"
    }
   ],
   "source": [
    "G"
   ]
  },
  {
   "cell_type": "code",
   "execution_count": 14,
   "metadata": {},
   "outputs": [
    {
     "data": {
      "text/plain": [
       "array([-3.721598  +0.j        , -0.65093674+0.j        ,\n",
       "        0.18626737+0.41436783j,  0.18626737-0.41436783j])"
      ]
     },
     "execution_count": 14,
     "metadata": {},
     "output_type": "execute_result"
    }
   ],
   "source": [
    "G.pole()"
   ]
  },
  {
   "cell_type": "code",
   "execution_count": 15,
   "metadata": {},
   "outputs": [
    {
     "data": {
      "text/plain": [
       "array([-0.25+0.66143783j, -0.25-0.66143783j,  0.  +0.j        ])"
      ]
     },
     "execution_count": 15,
     "metadata": {},
     "output_type": "execute_result"
    }
   ],
   "source": [
    "G.zero()"
   ]
  },
  {
   "cell_type": "code",
   "execution_count": 17,
   "metadata": {},
   "outputs": [
    {
     "data": {
      "text/plain": [
       "A = [[-4.00000000e+00 -1.00000000e+00 -3.83026943e-14 -5.00000000e-01]\n",
       " [ 1.00000000e+00  0.00000000e+00  0.00000000e+00  0.00000000e+00]\n",
       " [ 0.00000000e+00  1.00000000e+00  0.00000000e+00  0.00000000e+00]\n",
       " [ 0.00000000e+00  0.00000000e+00  1.00000000e+00  0.00000000e+00]]\n",
       "\n",
       "B = [[1.]\n",
       " [0.]\n",
       " [0.]\n",
       " [0.]]\n",
       "\n",
       "C = [[1.  0.5 0.5 0. ]]\n",
       "\n",
       "D = [[0.]]"
      ]
     },
     "execution_count": 17,
     "metadata": {},
     "output_type": "execute_result"
    }
   ],
   "source": [
    "sys=ctrl.ss(G)\n",
    "sys"
   ]
  },
  {
   "cell_type": "code",
   "execution_count": 18,
   "metadata": {},
   "outputs": [
    {
     "data": {
      "text/plain": [
       "array([-3.721598  +0.j        , -0.65093674+0.j        ,\n",
       "        0.18626737+0.41436783j,  0.18626737-0.41436783j])"
      ]
     },
     "execution_count": 18,
     "metadata": {},
     "output_type": "execute_result"
    }
   ],
   "source": [
    "np.linalg.eigvals(sys.A)"
   ]
  },
  {
   "cell_type": "code",
   "execution_count": 19,
   "metadata": {},
   "outputs": [
    {
     "data": {
      "text/plain": [
       "array([-3.721598  +0.j        , -0.65093674+0.j        ,\n",
       "        0.18626737+0.41436783j,  0.18626737-0.41436783j])"
      ]
     },
     "execution_count": 19,
     "metadata": {},
     "output_type": "execute_result"
    }
   ],
   "source": [
    "G.pole()"
   ]
  },
  {
   "cell_type": "code",
   "execution_count": null,
   "metadata": {},
   "outputs": [],
   "source": []
  }
 ],
 "metadata": {
  "kernelspec": {
   "display_name": "Python 3",
   "language": "python",
   "name": "python3"
  },
  "language_info": {
   "codemirror_mode": {
    "name": "ipython",
    "version": 3
   },
   "file_extension": ".py",
   "mimetype": "text/x-python",
   "name": "python",
   "nbconvert_exporter": "python",
   "pygments_lexer": "ipython3",
   "version": "3.6.8"
  }
 },
 "nbformat": 4,
 "nbformat_minor": 4
}
